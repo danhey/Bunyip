{
 "cells": [
  {
   "cell_type": "code",
   "execution_count": 2,
   "metadata": {},
   "outputs": [],
   "source": [
    "import phoebe\n",
    "import numpy as np\n",
    "\n",
    "b = phoebe.default_binary()\n",
    "\n",
    "phases = np.linspace(-0.5,0.5,200)\n",
    "b = phoebe.default_binary()\n",
    "b.add_dataset('lc', compute_phases=phases)\n",
    "\n",
    "# b['pblum_mode'] = 'pbflux'\n",
    "b['teff@primary'] = 17512.569277007777\n",
    "b['teff@secondary'] = 5836.180072011337\n",
    "b['gravb_bol@primary'] = 0.9\n",
    "b['irrad_frac_refl_bol@primary'] = 1.\n",
    "b['q'] = 0.9736344516974118\n",
    "b['requiv@primary'] = 1.536400786022977\n",
    "b['requiv@secondary'] = 0.7123388445305453\n",
    "b['teff@secondary'] = 5836.180072011337\n",
    "b['incl@binary'] = 74.5962754314255\n",
    "b['ecc'] = 0.2\n",
    "b['per0'] = 46.14228713978144\n",
    "\n",
    "b.run_compute(ntriangles=700, model='refl_false')\n",
    "fluxes = b['value@fluxes@model']"
   ]
  },
  {
   "cell_type": "code",
   "execution_count": null,
   "metadata": {},
   "outputs": [],
   "source": []
  },
  {
   "cell_type": "code",
   "execution_count": 1,
   "metadata": {},
   "outputs": [
    {
     "data": {
      "text/html": [
       "SearchResult containing 3 data products.\n",
       "\n",
       "<table id=\"table4824242576\">\n",
       "<thead><tr><th>#</th><th>observation</th><th>target_name</th><th>productFilename</th><th>distance</th></tr></thead>\n",
       "<tr><td>0</td><td>TESS Sector 14</td><td>165991532</td><td>tess2019198215352-s0014-0000000165991532-0150-s_lc.fits</td><td>0.0</td></tr>\n",
       "<tr><td>1</td><td>TESS Sector 15</td><td>165991532</td><td>tess2019226182529-s0015-0000000165991532-0151-s_lc.fits</td><td>0.0</td></tr>\n",
       "<tr><td>2</td><td>TESS Sector 16</td><td>165991532</td><td>tess2019253231442-s0016-0000000165991532-0152-s_lc.fits</td><td>0.0</td></tr>\n",
       "</table>"
      ],
      "text/plain": [
       "SearchResult containing 3 data products.\n",
       "\n",
       " #   observation   target_name                     productFilename                     distance\n",
       "--- -------------- ----------- ------------------------------------------------------- --------\n",
       "  0 TESS Sector 14   165991532 tess2019198215352-s0014-0000000165991532-0150-s_lc.fits      0.0\n",
       "  1 TESS Sector 15   165991532 tess2019226182529-s0015-0000000165991532-0151-s_lc.fits      0.0\n",
       "  2 TESS Sector 16   165991532 tess2019253231442-s0016-0000000165991532-0152-s_lc.fits      0.0"
      ]
     },
     "execution_count": 1,
     "metadata": {},
     "output_type": "execute_result"
    }
   ],
   "source": [
    "import lightkurve as lk\n",
    "\n",
    "lk.search_lightcurvefile('alpha Draconis', mission='TESS')"
   ]
  },
  {
   "cell_type": "code",
   "execution_count": null,
   "metadata": {},
   "outputs": [],
   "source": []
  },
  {
   "cell_type": "code",
   "execution_count": 3,
   "metadata": {},
   "outputs": [
    {
     "data": {
      "image/png": "[encoded data removed]",
      "text/plain": [
       "<Figure size 432x288 with 1 Axes>"
      ]
     },
     "metadata": {
      "needs_background": "light"
     },
     "output_type": "display_data"
    },
    {
     "data": {
      "text/plain": [
       "(<autofig.figure.Figure | 1 axes | 1 call(s)>,\n",
       " <Figure size 432x288 with 1 Axes>)"
      ]
     },
     "execution_count": 3,
     "metadata": {},
     "output_type": "execute_result"
    }
   ],
   "source": [
    "b.plot(show=True)"
   ]
  },
  {
   "cell_type": "code",
   "execution_count": 17,
   "metadata": {},
   "outputs": [
    {
     "name": "stdout",
     "output_type": "stream",
     "text": [
      "ParameterSet: 4 parameters\n",
      "* irrad_frac_lost_bol@primary...: 0.0\n",
      "* irrad_frac_lost_bol@seconda...: 0.4\n",
      "  irrad_frac_lost_bol@primary...: 1.000000 - {irrad_frac_refl_bol@primary@component}\n",
      "  irrad_frac_lost_bol@seconda...: 1.000000 - {irrad_frac_refl_bol@secondary@component}\n"
     ]
    }
   ],
   "source": [
    "print(b['irrad_frac_lost_bol'])"
   ]
  },
  {
   "cell_type": "code",
   "execution_count": null,
   "metadata": {},
   "outputs": [],
   "source": []
  }
 ],
 "metadata": {
  "kernelspec": {
   "display_name": "phoebe",
   "language": "python",
   "name": "phoebe"
  },
  "language_info": {
   "codemirror_mode": {
    "name": "ipython",
    "version": 3
   },
   "file_extension": ".py",
   "mimetype": "text/x-python",
   "name": "python",
   "nbconvert_exporter": "python",
   "pygments_lexer": "ipython3",
   "version": "3.7.4"
  }
 },
 "nbformat": 4,
 "nbformat_minor": 4
}
